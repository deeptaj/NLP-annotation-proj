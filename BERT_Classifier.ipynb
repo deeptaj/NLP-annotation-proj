{
  "cells": [
    {
      "cell_type": "markdown",
      "metadata": {
        "id": "JZFoTZ9Rd4bP"
      },
      "source": [
        "<a href=\"https://colab.research.google.com/github/dbamman/nlp23/blob/master/AP/BERT.ipynb\" target=\"_parent\"><img src=\"https://colab.research.google.com/assets/colab-badge.svg\" alt=\"Open In Colab\"/></a>"
      ]
    },
    {
      "cell_type": "markdown",
      "metadata": {
        "id": "2AYm2QjD4WPA"
      },
      "source": [
        "BERT for binary or multiclass document classification using the [CLS] token as the document representation; trains a model (on `train.txt`), uses `dev.txt` for early stopping, and evaluates performance on `test.txt`.  Reports test accuracy with 95% confidence intervals.\n",
        "\n",
        "Before executing this notebook on Colab, make sure you're running on cuda (`Runtime > Change runtime type > GPU`) to make use of GPU speedups."
      ]
    },
    {
      "cell_type": "code",
      "execution_count": 1,
      "metadata": {
        "colab": {
          "base_uri": "https://localhost:8080/"
        },
        "id": "RXwcKMY44a04",
        "outputId": "b3753cb8-9489-4b50-ce67-6a409126c5fa"
      },
      "outputs": [
        {
          "output_type": "stream",
          "name": "stdout",
          "text": [
            "Requirement already satisfied: transformers in /usr/local/lib/python3.10/dist-packages (4.40.1)\n",
            "Requirement already satisfied: filelock in /usr/local/lib/python3.10/dist-packages (from transformers) (3.13.4)\n",
            "Requirement already satisfied: huggingface-hub<1.0,>=0.19.3 in /usr/local/lib/python3.10/dist-packages (from transformers) (0.20.3)\n",
            "Requirement already satisfied: numpy>=1.17 in /usr/local/lib/python3.10/dist-packages (from transformers) (1.25.2)\n",
            "Requirement already satisfied: packaging>=20.0 in /usr/local/lib/python3.10/dist-packages (from transformers) (24.0)\n",
            "Requirement already satisfied: pyyaml>=5.1 in /usr/local/lib/python3.10/dist-packages (from transformers) (6.0.1)\n",
            "Requirement already satisfied: regex!=2019.12.17 in /usr/local/lib/python3.10/dist-packages (from transformers) (2023.12.25)\n",
            "Requirement already satisfied: requests in /usr/local/lib/python3.10/dist-packages (from transformers) (2.31.0)\n",
            "Requirement already satisfied: tokenizers<0.20,>=0.19 in /usr/local/lib/python3.10/dist-packages (from transformers) (0.19.1)\n",
            "Requirement already satisfied: safetensors>=0.4.1 in /usr/local/lib/python3.10/dist-packages (from transformers) (0.4.3)\n",
            "Requirement already satisfied: tqdm>=4.27 in /usr/local/lib/python3.10/dist-packages (from transformers) (4.66.2)\n",
            "Requirement already satisfied: fsspec>=2023.5.0 in /usr/local/lib/python3.10/dist-packages (from huggingface-hub<1.0,>=0.19.3->transformers) (2023.6.0)\n",
            "Requirement already satisfied: typing-extensions>=3.7.4.3 in /usr/local/lib/python3.10/dist-packages (from huggingface-hub<1.0,>=0.19.3->transformers) (4.11.0)\n",
            "Requirement already satisfied: charset-normalizer<4,>=2 in /usr/local/lib/python3.10/dist-packages (from requests->transformers) (3.3.2)\n",
            "Requirement already satisfied: idna<4,>=2.5 in /usr/local/lib/python3.10/dist-packages (from requests->transformers) (3.7)\n",
            "Requirement already satisfied: urllib3<3,>=1.21.1 in /usr/local/lib/python3.10/dist-packages (from requests->transformers) (2.0.7)\n",
            "Requirement already satisfied: certifi>=2017.4.17 in /usr/local/lib/python3.10/dist-packages (from requests->transformers) (2024.2.2)\n"
          ]
        }
      ],
      "source": [
        "!pip install transformers"
      ]
    },
    {
      "cell_type": "code",
      "execution_count": 25,
      "metadata": {
        "id": "oeSgrDjF4WPC"
      },
      "outputs": [],
      "source": [
        "from transformers import BertModel, BertTokenizer\n",
        "from transformers import AlbertModel, AlbertTokenizer\n",
        "import nltk\n",
        "import torch\n",
        "import torch.nn as nn\n",
        "import pandas as pd\n",
        "import numpy as np\n",
        "import random\n",
        "from scipy.stats import norm\n",
        "import math"
      ]
    },
    {
      "cell_type": "code",
      "execution_count": 3,
      "metadata": {
        "id": "F9qWkf0z4WPE",
        "colab": {
          "base_uri": "https://localhost:8080/"
        },
        "outputId": "5a5d2cd7-d2e1-48ba-9570-bc016f923080"
      },
      "outputs": [
        {
          "output_type": "stream",
          "name": "stdout",
          "text": [
            "Mounted at /content/drive\n"
          ]
        }
      ],
      "source": [
        "# If you have your folder of data on your Google drive account, you can connect that here\n",
        "from google.colab import drive\n",
        "drive.mount('/content/drive')"
      ]
    },
    {
      "cell_type": "code",
      "execution_count": 4,
      "metadata": {
        "id": "OcoE7WJQ6XRp"
      },
      "outputs": [],
      "source": [
        "# Change this to the directory with your data\n",
        "directory=\"/content/drive/MyDrive/ap_data/\""
      ]
    },
    {
      "cell_type": "code",
      "execution_count": 5,
      "metadata": {
        "id": "-ycKOkx34WPE",
        "colab": {
          "base_uri": "https://localhost:8080/"
        },
        "outputId": "80c8fcf3-8d20-49c6-c94d-304b26fe843d"
      },
      "outputs": [
        {
          "output_type": "stream",
          "name": "stdout",
          "text": [
            "Running on cuda\n"
          ]
        }
      ],
      "source": [
        "device = torch.device(\"cuda\" if torch.cuda.is_available() else \"cpu\")\n",
        "print(\"Running on {}\".format(device))"
      ]
    },
    {
      "cell_type": "code",
      "execution_count": 6,
      "metadata": {
        "id": "BuzjCRrG4WPF"
      },
      "outputs": [],
      "source": [
        "def read_labels(filename):\n",
        "    labels={}\n",
        "    with open(filename) as file:\n",
        "        for line in file:\n",
        "            cols = line.split(\"\\t\")\n",
        "            label = cols[2]\n",
        "            if label not in labels:\n",
        "                labels[label]=len(labels)\n",
        "    return labels"
      ]
    },
    {
      "cell_type": "code",
      "execution_count": 7,
      "metadata": {
        "id": "8XetKMAw4WPF"
      },
      "outputs": [],
      "source": [
        "def read_data(filename, labels, max_data_points=1000):\n",
        "\n",
        "    data = []\n",
        "    data_labels = []\n",
        "    with open(filename) as file:\n",
        "        for line in file:\n",
        "            cols = line.split(\"\\t\")\n",
        "            label = cols[2]\n",
        "            text = cols[3]\n",
        "\n",
        "            data.append(text)\n",
        "            data_labels.append(labels[label])\n",
        "\n",
        "\n",
        "    # shuffle the data\n",
        "    tmp = list(zip(data, data_labels))\n",
        "    random.shuffle(tmp)\n",
        "    data, data_labels = zip(*tmp)\n",
        "\n",
        "    if max_data_points is None:\n",
        "        return data, data_labels\n",
        "\n",
        "    return data[:max_data_points], data_labels[:max_data_points]"
      ]
    },
    {
      "cell_type": "code",
      "execution_count": 8,
      "metadata": {
        "id": "ZPfJqVmb4WPH"
      },
      "outputs": [],
      "source": [
        "labels=read_labels(\"%s/train.txt\" % directory)"
      ]
    },
    {
      "cell_type": "code",
      "execution_count": 9,
      "metadata": {
        "id": "O-728X0b4WPI"
      },
      "outputs": [],
      "source": [
        "train_x, train_y=read_data(\"%s/train.txt\" % directory, labels, max_data_points=None)"
      ]
    },
    {
      "cell_type": "code",
      "execution_count": 10,
      "metadata": {
        "id": "zQOE469I4WPI"
      },
      "outputs": [],
      "source": [
        "dev_x, dev_y=read_data(\"%s/dev.txt\" % directory, labels, max_data_points=None)"
      ]
    },
    {
      "cell_type": "code",
      "execution_count": 11,
      "metadata": {
        "id": "vMpv6ZV54WPI"
      },
      "outputs": [],
      "source": [
        "test_x, test_y=read_data(\"%s/test.txt\" % directory, labels, max_data_points=None)"
      ]
    },
    {
      "cell_type": "code",
      "execution_count": 12,
      "metadata": {
        "id": "gUKRjWsf4WPJ"
      },
      "outputs": [],
      "source": [
        "#returns accuracy for classifier\n",
        "def evaluate(model, x, y):\n",
        "    model.eval()\n",
        "    correct = 0\n",
        "    total = 0\n",
        "    with torch.no_grad():\n",
        "        for x, y in zip(x, y):\n",
        "            y_predictions=model.forward(x)\n",
        "            for idx, y_pred in enumerate(y_predictions):\n",
        "                prediction=torch.argmax(y_pred)\n",
        "                if prediction == y[idx]:\n",
        "                    correct = correct + 1\n",
        "                total= total + 1\n",
        "    return correct/total, total"
      ]
    },
    {
      "cell_type": "code",
      "execution_count": 13,
      "metadata": {
        "id": "frq6wqoWfQ31"
      },
      "outputs": [],
      "source": [
        "#returns predictions from classifier and true values of y\n",
        "def predictions(model, x, y):\n",
        "    model.eval()\n",
        "    predictions = []\n",
        "    tru_labels = []\n",
        "    with torch.no_grad():\n",
        "        for batch_x, batch_y in zip(x, y):\n",
        "            y_predictions = model.forward(batch_x)\n",
        "            pred_labels = torch.argmax(y_predictions, dim=1)\n",
        "            predictions.extend(pred_labels.cpu().numpy())\n",
        "            tru_labels.extend(batch_y.cpu().numpy())\n",
        "    return predictions, tru_labels\n"
      ]
    },
    {
      "cell_type": "code",
      "execution_count": 14,
      "metadata": {
        "id": "xkUSuG794WPK"
      },
      "outputs": [],
      "source": [
        "#original BERT model\n",
        "class BERTClassifier(nn.Module):\n",
        "    def __init__(self, bert_model_name, params):\n",
        "        super().__init__()\n",
        "\n",
        "        self.model_name = bert_model_name\n",
        "        self.tokenizer = BertTokenizer.from_pretrained(bert_model_name, do_lower_case=params[\"doLowerCase\"])\n",
        "        self.bert = BertModel.from_pretrained(bert_model_name)\n",
        "        self.num_labels = params['num_labels']\n",
        "        self.fc = nn.Linear(self.bert.config.hidden_size, self.num_labels)\n",
        "\n",
        "    def forward(self, batch_x):\n",
        "        b_output = self.bert(input_ids=batch_x[\"input_ids\"],\n",
        "                                attention_mask=batch_x[\"attention_mask\"],\n",
        "                                token_type_ids=batch_x.get(\"token_type_ids\", None),\n",
        "                                output_hidden_states=True)\n",
        "        p_output = b_output.pooler_output\n",
        "        lts = self.fc(p_output)\n",
        "        return lts\n",
        "\n",
        "    def get_batches(self, all_x, all_y, batch_size=16, max_toks=510):\n",
        "        x_batches = []\n",
        "        y_batches = []\n",
        "\n",
        "        for i in range(0, len(all_x), batch_size):\n",
        "            x = all_x[i:i + batch_size]\n",
        "            x_batch = self.tokenizer(x, padding=True, truncation=True, return_tensors=\"pt\", max_length=max_toks)\n",
        "            y_batch = all_y[i:i + batch_size]\n",
        "\n",
        "            x_batches.append(x_batch.to(device))\n",
        "            y_batches.append(torch.LongTensor(y_batch).to(device))\n",
        "\n",
        "        return x_batches, y_batches"
      ]
    },
    {
      "cell_type": "code",
      "execution_count": 29,
      "metadata": {
        "id": "TKbnvjwKKFc6"
      },
      "outputs": [],
      "source": [
        "class ALBERTClassifier(nn.Module):\n",
        "    def __init__(self, albert_model_name, params):\n",
        "        super().__init__()\n",
        "\n",
        "        self.model_name = albert_model_name\n",
        "        self.tokenizer = AlbertTokenizer.from_pretrained(self.model_name, do_lower_case=params[\"doLowerCase\"])\n",
        "        self.albert = AlbertModel.from_pretrained(self.model_name)\n",
        "\n",
        "        self.num_labels = params[\"num_labels\"]\n",
        "        self.fc = nn.Linear(params[\"embedding_size\"], self.num_labels)\n",
        "\n",
        "    def get_batches(self, all_x, all_y, batch_size=32, max_toks=510):\n",
        "        x_batches = []\n",
        "        y_batches = []\n",
        "        for i in range(0, len(all_x), batch_size):\n",
        "            x = all_x[i:i+batch_size]\n",
        "            x_batch = self.tokenizer(x, padding=True, truncation=True, return_tensors=\"pt\", max_length=max_toks)\n",
        "            y_batch = all_y[i : i +batch_size]\n",
        "            x_batches.append(x_batch.to(device))\n",
        "            y_batches.append(torch.LongTensor(y_batch).to(device))\n",
        "        return x_batches, y_batches\n",
        "\n",
        "    def forward(self, batch_x):\n",
        "        alt_output = self.albert(input_ids=batch_x[\"input_ids\"],\n",
        "                                    attention_mask=batch_x[\"attention_mask\"],\n",
        "                                    token_type_ids=batch_x[\"token_type_ids\"],\n",
        "                                    output_hidden_states=True)\n",
        "\n",
        "        albert_hdn_states = alt_output['hidden_states']\n",
        "        output = albert_hdn_states[-1][:, 0, :]\n",
        "        output = self.fc(output)\n",
        "        return output.squeeze()"
      ]
    },
    {
      "cell_type": "code",
      "execution_count": 15,
      "metadata": {
        "id": "7mU_Fdm8L9Xh"
      },
      "outputs": [],
      "source": [
        "#BERT with attention implemented\n",
        "class Attention(nn.Module):\n",
        "    def __init__(self, embed_dim):\n",
        "        super(Attention, self).__init__()\n",
        "        self.embed_dim = embed_dim\n",
        "        self.tanh = nn.Tanh()\n",
        "        self.softmax = nn.Softmax(dim=1)\n",
        "        self.linear = nn.Linear(embed_dim, 1, bias=False)\n",
        "\n",
        "    def forward(self, outputs, mask):\n",
        "        s = self.linear(outputs)\n",
        "        s = self.tanh(s).squeeze(2)\n",
        "        s = s.masked_fill(mask == 0, -1e9)\n",
        "        attn_weights = self.softmax(s)\n",
        "        vtr = torch.sum(attn_weights.unsqueeze(-1) * outputs, dim=1)\n",
        "        return vtr\n",
        "\n",
        "class BERTClassifierWithAttention(nn.Module):\n",
        "    def __init__(self, bert_model_name, params):\n",
        "        super().__init__()\n",
        "        self.bert = BertModel.from_pretrained(bert_model_name)\n",
        "        self.attention = Attention(self.bert.config.hidden_size)\n",
        "        self.fc = nn.Linear(self.bert.config.hidden_size, params['num_labels'])\n",
        "\n",
        "    def forward(self, input_ids, attention_mask, token_type_ids):\n",
        "        outputs = self.bert(input_ids=input_ids,\n",
        "                            attention_mask=attention_mask,\n",
        "                            token_type_ids=token_type_ids)\n",
        "\n",
        "        last_hdn_states = outputs.last_hidden_state\n",
        "        vtr = self.attention(last_hdn_states, attention_mask)\n",
        "\n",
        "        lts = self.fc(vtr)\n",
        "        return lts\n",
        "\n",
        "class AlbertClassifierWithAttention(nn.Module):\n",
        "    def __init__(self, albert_model_name, params):\n",
        "        super().__init__()\n",
        "        self.albert = AlbertModel.from_pretrained(albert_model_name)\n",
        "        self.attention = Attention(self.albert.config.hidden_size)\n",
        "        self.fc = nn.Linear(self.albert.config.hidden_size, params['num_labels'])\n",
        "\n",
        "    def forward(self, input_ids, attention_mask, token_type_ids):\n",
        "        outputs = self.albert(input_ids=input_ids,\n",
        "                              attention_mask=attention_mask,\n",
        "                              token_type_ids=token_type_ids)\n",
        "\n",
        "        last_hdn_states = outputs.last_hidden_state\n",
        "        vtr = self.attention(last_hdn_states, attention_mask)\n",
        "\n",
        "        lts = self.fc(vtr)\n",
        "        return lts"
      ]
    },
    {
      "cell_type": "code",
      "execution_count": 32,
      "metadata": {
        "id": "GiiXWwz94WPL"
      },
      "outputs": [],
      "source": [
        "def train(model_name, model_filename, train_x, train_y, dev_x, dev_y, labels, embedding_size=768, doLowerCase=None, learning_rate=1e-5, batch_size=32, num_epochs=10):\n",
        "    if model_name.startswith(\"bert\"):\n",
        "        model_class = BERTClassifier\n",
        "    elif model_name.startswith(\"albert\"):\n",
        "        model_class = AlbertClassifierWithAttention\n",
        "    else:\n",
        "        raise ValueError(\"Invalid model name. Must start with 'bert' or 'albert'.\")\n",
        "\n",
        "    params = {\n",
        "        'num_labels': len(labels),\n",
        "        'doLowerCase': doLowerCase,\n",
        "        'embedding_size': embedding_size\n",
        "    }\n",
        "\n",
        "    model = model_class(model_name, params)\n",
        "    model.to(device)\n",
        "\n",
        "    batch_x, batch_y = model.get_batches(train_x, train_y, batch_size=batch_size)\n",
        "    dev_batch_x, dev_batch_y = model.get_batches(dev_x, dev_y, batch_size=batch_size)\n",
        "\n",
        "    optimizer = torch.optim.Adam(model.parameters(), lr=learning_rate)\n",
        "    cross_entropy = nn.CrossEntropyLoss()\n",
        "\n",
        "    best_dev_acc = 0.\n",
        "    patience = 5\n",
        "    best_epoch = 0\n",
        "    total_epochs = 5\n",
        "\n",
        "    for epoch in range(num_epochs):\n",
        "        model.train()\n",
        "        for x, y in zip(batch_x, batch_y):\n",
        "            y_pred = model.forward(x)\n",
        "            loss = cross_entropy(y_pred.view(-1, model.num_labels), y.view(-1))\n",
        "            optimizer.zero_grad()\n",
        "            loss.backward()\n",
        "            optimizer.step()\n",
        "\n",
        "        dev_accuracy, _ = evaluate(model, dev_batch_x, dev_batch_y)\n",
        "        if epoch % 1 == 0:\n",
        "            print(\"Epoch %s, dev accuracy: %.3f\" % (epoch, dev_accuracy))\n",
        "            if dev_accuracy > best_dev_acc:\n",
        "                torch.save(model.state_dict(), model_filename)\n",
        "                best_dev_acc = dev_accuracy\n",
        "                best_epoch = epoch\n",
        "        if epoch - best_epoch > patience:\n",
        "            print(\"No improvement in dev accuracy over %s epochs; stopping training\" % patience)\n",
        "            break\n",
        "\n",
        "    model.load_state_dict(torch.load(model_filename))\n",
        "    print(\"\\nBest Performing Model achieves dev accuracy of : %.3f\" % (best_dev_acc))\n",
        "    return model"
      ]
    },
    {
      "cell_type": "code",
      "execution_count": 16,
      "metadata": {
        "id": "9mVrY9yv4WPL"
      },
      "outputs": [],
      "source": [
        "def confidence_intervals(accuracy, n, significance_level):\n",
        "    c_value = (1-significance_level)/2\n",
        "    z = -1 * norm.ppf(c_value)\n",
        "    se = math.sqrt((accuracy * (1-accuracy))/n)\n",
        "    return accuracy - (se * z), accuracy + (se * z)"
      ]
    },
    {
      "cell_type": "code",
      "execution_count": 33,
      "metadata": {
        "id": "Twbsysmd4WPM",
        "colab": {
          "base_uri": "https://localhost:8080/"
        },
        "outputId": "cfc16185-bd18-47fc-cf01-213e0ecb75c4"
      },
      "outputs": [
        {
          "output_type": "stream",
          "name": "stdout",
          "text": [
            "Epoch 0, dev accuracy: 0.540\n",
            "Epoch 1, dev accuracy: 0.520\n",
            "Epoch 2, dev accuracy: 0.560\n",
            "Epoch 3, dev accuracy: 0.600\n",
            "Epoch 4, dev accuracy: 0.610\n",
            "Epoch 5, dev accuracy: 0.610\n",
            "Epoch 6, dev accuracy: 0.660\n",
            "Epoch 7, dev accuracy: 0.690\n",
            "Epoch 8, dev accuracy: 0.700\n",
            "Epoch 9, dev accuracy: 0.720\n",
            "\n",
            "Best Performing Model achieves dev accuracy of : 0.720\n",
            "Test accuracy for best dev model: 0.770, 95% CIs: [0.688 0.852]\n",
            "\n"
          ]
        }
      ],
      "source": [
        "# bert-base -- slow on laptop; better on Colab\n",
        "bert_model_name = \"bert-base-cased\"\n",
        "model_filename = \"mybert.model\"\n",
        "embedding_size = 768\n",
        "doLowerCase = False\n",
        "\n",
        "model = train(bert_model_name, model_filename, train_x, train_y, dev_x, dev_y, labels, embedding_size, doLowerCase)\n",
        "test_batch_x, test_batch_y = model.get_batches(test_x, test_y)\n",
        "accuracy, test_n = evaluate(model, test_batch_x, test_batch_y)\n",
        "\n",
        "lower, upper = confidence_intervals(accuracy, test_n, .95)\n",
        "print(\"Test accuracy for best dev model: %.3f, 95%% CIs: [%.3f %.3f]\\n\" % (accuracy, lower, upper))"
      ]
    },
    {
      "cell_type": "code",
      "source": [
        "#running ALBERT classifier\n",
        "albert_model_name = \"albert-base-v2\"\n",
        "model_filename = \"myalbert.model\"\n",
        "embedding_size = 768\n",
        "doLowerCase = False\n",
        "\n",
        "model = train(albert_model_name, model_filename, train_x, train_y, dev_x, dev_y, labels, embedding_size=embedding_size, doLowerCase=doLowerCase)\n",
        "test_batch_x, test_batch_y = model.get_batches(test_x, test_y)\n",
        "accuracy, test_n = evaluate(model, test_batch_x, test_batch_y)\n",
        "\n",
        "lower, upper = confidence_intervals(accuracy, test_n, .95)\n",
        "print(\"Test accuracy for best dev model: %.3f, 95%% CIs: [%.3f %.3f]\\n\" % (accuracy, lower, upper))"
      ],
      "metadata": {
        "colab": {
          "base_uri": "https://localhost:8080/"
        },
        "id": "dQQJQv-V_PPe",
        "outputId": "ba60c537-5393-4fb0-e1fa-32b4aeaf5ada"
      },
      "execution_count": 30,
      "outputs": [
        {
          "output_type": "stream",
          "name": "stdout",
          "text": [
            "Epoch 0, dev accuracy: 0.550\n",
            "Epoch 1, dev accuracy: 0.610\n",
            "Epoch 2, dev accuracy: 0.680\n",
            "Epoch 3, dev accuracy: 0.710\n",
            "Epoch 4, dev accuracy: 0.740\n",
            "Epoch 5, dev accuracy: 0.740\n",
            "Epoch 6, dev accuracy: 0.710\n",
            "Epoch 7, dev accuracy: 0.670\n",
            "Epoch 8, dev accuracy: 0.680\n",
            "Epoch 9, dev accuracy: 0.690\n",
            "\n",
            "Best Performing Model achieves dev accuracy of : 0.740\n",
            "Test accuracy for best dev model: 0.750, 95% CIs: [0.665 0.835]\n",
            "\n"
          ]
        }
      ]
    },
    {
      "cell_type": "code",
      "execution_count": 31,
      "metadata": {
        "id": "UAbB5VZArErE",
        "colab": {
          "base_uri": "https://localhost:8080/",
          "height": 704
        },
        "outputId": "da7eb703-2347-4e8c-9358-a4f985a80d59"
      },
      "outputs": [
        {
          "output_type": "stream",
          "name": "stdout",
          "text": [
            "Collecting scikit-optimize\n",
            "  Downloading scikit_optimize-0.10.1-py2.py3-none-any.whl (107 kB)\n",
            "\u001b[?25l     \u001b[90m━━━━━━━━━━━━━━━━━━━━━━━━━━━━━━━━━━━━━━━━\u001b[0m \u001b[32m0.0/107.7 kB\u001b[0m \u001b[31m?\u001b[0m eta \u001b[36m-:--:--\u001b[0m\r\u001b[2K     \u001b[91m━━━━━━━━━━━━━━━━━━━━━━━━━━━━━━━━━━━━━━\u001b[0m\u001b[90m╺\u001b[0m\u001b[90m━\u001b[0m \u001b[32m102.4/107.7 kB\u001b[0m \u001b[31m3.4 MB/s\u001b[0m eta \u001b[36m0:00:01\u001b[0m\r\u001b[2K     \u001b[90m━━━━━━━━━━━━━━━━━━━━━━━━━━━━━━━━━━━━━━━━\u001b[0m \u001b[32m107.7/107.7 kB\u001b[0m \u001b[31m2.7 MB/s\u001b[0m eta \u001b[36m0:00:00\u001b[0m\n",
            "\u001b[?25hRequirement already satisfied: joblib>=0.11 in /usr/local/lib/python3.10/dist-packages (from scikit-optimize) (1.4.0)\n",
            "Collecting pyaml>=16.9 (from scikit-optimize)\n",
            "  Downloading pyaml-24.4.0-py3-none-any.whl (24 kB)\n",
            "Requirement already satisfied: numpy>=1.20.3 in /usr/local/lib/python3.10/dist-packages (from scikit-optimize) (1.25.2)\n",
            "Requirement already satisfied: scipy>=1.1.0 in /usr/local/lib/python3.10/dist-packages (from scikit-optimize) (1.11.4)\n",
            "Requirement already satisfied: scikit-learn>=1.0.0 in /usr/local/lib/python3.10/dist-packages (from scikit-optimize) (1.2.2)\n",
            "Requirement already satisfied: packaging>=21.3 in /usr/local/lib/python3.10/dist-packages (from scikit-optimize) (24.0)\n",
            "Requirement already satisfied: PyYAML in /usr/local/lib/python3.10/dist-packages (from pyaml>=16.9->scikit-optimize) (6.0.1)\n",
            "Requirement already satisfied: threadpoolctl>=2.0.0 in /usr/local/lib/python3.10/dist-packages (from scikit-learn>=1.0.0->scikit-optimize) (3.4.0)\n",
            "Installing collected packages: pyaml, scikit-optimize\n",
            "Successfully installed pyaml-24.4.0 scikit-optimize-0.10.1\n",
            "Epoch 0, dev accuracy: 0.550\n",
            "Epoch 1, dev accuracy: 0.710\n",
            "Epoch 2, dev accuracy: 0.620\n",
            "Epoch 3, dev accuracy: 0.550\n"
          ]
        },
        {
          "output_type": "error",
          "ename": "KeyboardInterrupt",
          "evalue": "",
          "traceback": [
            "\u001b[0;31m---------------------------------------------------------------------------\u001b[0m",
            "\u001b[0;31mKeyboardInterrupt\u001b[0m                         Traceback (most recent call last)",
            "\u001b[0;32m<ipython-input-31-f7d631e7975c>\u001b[0m in \u001b[0;36m<cell line: 26>\u001b[0;34m()\u001b[0m\n\u001b[1;32m     24\u001b[0m ]\n\u001b[1;32m     25\u001b[0m \u001b[0;34m\u001b[0m\u001b[0m\n\u001b[0;32m---> 26\u001b[0;31m \u001b[0moptimized\u001b[0m \u001b[0;34m=\u001b[0m \u001b[0mgp_minimize\u001b[0m\u001b[0;34m(\u001b[0m\u001b[0mobjective\u001b[0m\u001b[0;34m,\u001b[0m \u001b[0mranges\u001b[0m\u001b[0;34m,\u001b[0m \u001b[0mn_calls\u001b[0m\u001b[0;34m=\u001b[0m\u001b[0;36m2\u001b[0m\u001b[0;34m,\u001b[0m \u001b[0mn_initial_points\u001b[0m\u001b[0;34m=\u001b[0m\u001b[0;36m2\u001b[0m\u001b[0;34m)\u001b[0m\u001b[0;34m\u001b[0m\u001b[0;34m\u001b[0m\u001b[0m\n\u001b[0m\u001b[1;32m     27\u001b[0m \u001b[0;34m\u001b[0m\u001b[0m\n\u001b[1;32m     28\u001b[0m \u001b[0moptimal_learning_rate\u001b[0m\u001b[0;34m,\u001b[0m \u001b[0moptimal_batch_size\u001b[0m\u001b[0;34m,\u001b[0m \u001b[0moptimal_num_epochs\u001b[0m \u001b[0;34m=\u001b[0m \u001b[0moptimized\u001b[0m\u001b[0;34m.\u001b[0m\u001b[0mx\u001b[0m\u001b[0;34m\u001b[0m\u001b[0;34m\u001b[0m\u001b[0m\n",
            "\u001b[0;32m/usr/local/lib/python3.10/dist-packages/skopt/optimizer/gp.py\u001b[0m in \u001b[0;36mgp_minimize\u001b[0;34m(func, dimensions, base_estimator, n_calls, n_random_starts, n_initial_points, initial_point_generator, acq_func, acq_optimizer, x0, y0, random_state, verbose, callback, n_points, n_restarts_optimizer, xi, kappa, noise, n_jobs, model_queue_size, space_constraint)\u001b[0m\n\u001b[1;32m    279\u001b[0m         )\n\u001b[1;32m    280\u001b[0m \u001b[0;34m\u001b[0m\u001b[0m\n\u001b[0;32m--> 281\u001b[0;31m     return base_minimize(\n\u001b[0m\u001b[1;32m    282\u001b[0m         \u001b[0mfunc\u001b[0m\u001b[0;34m,\u001b[0m\u001b[0;34m\u001b[0m\u001b[0;34m\u001b[0m\u001b[0m\n\u001b[1;32m    283\u001b[0m         \u001b[0mspace\u001b[0m\u001b[0;34m,\u001b[0m\u001b[0;34m\u001b[0m\u001b[0;34m\u001b[0m\u001b[0m\n",
            "\u001b[0;32m/usr/local/lib/python3.10/dist-packages/skopt/optimizer/base.py\u001b[0m in \u001b[0;36mbase_minimize\u001b[0;34m(func, dimensions, base_estimator, n_calls, n_random_starts, n_initial_points, initial_point_generator, acq_func, acq_optimizer, x0, y0, random_state, verbose, callback, n_points, n_restarts_optimizer, xi, kappa, n_jobs, model_queue_size, space_constraint)\u001b[0m\n\u001b[1;32m    330\u001b[0m     \u001b[0;32mfor\u001b[0m \u001b[0m_\u001b[0m \u001b[0;32min\u001b[0m \u001b[0mrange\u001b[0m\u001b[0;34m(\u001b[0m\u001b[0mn_calls\u001b[0m\u001b[0;34m)\u001b[0m\u001b[0;34m:\u001b[0m\u001b[0;34m\u001b[0m\u001b[0;34m\u001b[0m\u001b[0m\n\u001b[1;32m    331\u001b[0m         \u001b[0mnext_x\u001b[0m \u001b[0;34m=\u001b[0m \u001b[0moptimizer\u001b[0m\u001b[0;34m.\u001b[0m\u001b[0mask\u001b[0m\u001b[0;34m(\u001b[0m\u001b[0;34m)\u001b[0m\u001b[0;34m\u001b[0m\u001b[0;34m\u001b[0m\u001b[0m\n\u001b[0;32m--> 332\u001b[0;31m         \u001b[0mnext_y\u001b[0m \u001b[0;34m=\u001b[0m \u001b[0mfunc\u001b[0m\u001b[0;34m(\u001b[0m\u001b[0mnext_x\u001b[0m\u001b[0;34m)\u001b[0m\u001b[0;34m\u001b[0m\u001b[0;34m\u001b[0m\u001b[0m\n\u001b[0m\u001b[1;32m    333\u001b[0m         \u001b[0mresult\u001b[0m \u001b[0;34m=\u001b[0m \u001b[0moptimizer\u001b[0m\u001b[0;34m.\u001b[0m\u001b[0mtell\u001b[0m\u001b[0;34m(\u001b[0m\u001b[0mnext_x\u001b[0m\u001b[0;34m,\u001b[0m \u001b[0mnext_y\u001b[0m\u001b[0;34m)\u001b[0m\u001b[0;34m\u001b[0m\u001b[0;34m\u001b[0m\u001b[0m\n\u001b[1;32m    334\u001b[0m         \u001b[0mresult\u001b[0m\u001b[0;34m.\u001b[0m\u001b[0mspecs\u001b[0m \u001b[0;34m=\u001b[0m \u001b[0mspecs\u001b[0m\u001b[0;34m\u001b[0m\u001b[0;34m\u001b[0m\u001b[0m\n",
            "\u001b[0;32m<ipython-input-31-f7d631e7975c>\u001b[0m in \u001b[0;36mobjective\u001b[0;34m(params)\u001b[0m\n\u001b[1;32m      6\u001b[0m \u001b[0;32mdef\u001b[0m \u001b[0mobjective\u001b[0m\u001b[0;34m(\u001b[0m\u001b[0mparams\u001b[0m\u001b[0;34m)\u001b[0m\u001b[0;34m:\u001b[0m\u001b[0;34m\u001b[0m\u001b[0;34m\u001b[0m\u001b[0m\n\u001b[1;32m      7\u001b[0m     \u001b[0mlearning_rate\u001b[0m\u001b[0;34m,\u001b[0m \u001b[0mbatch_size\u001b[0m\u001b[0;34m,\u001b[0m \u001b[0mnum_epochs\u001b[0m \u001b[0;34m=\u001b[0m \u001b[0mparams\u001b[0m\u001b[0;34m\u001b[0m\u001b[0;34m\u001b[0m\u001b[0m\n\u001b[0;32m----> 8\u001b[0;31m     model = train(albert_model_name, model_filename, train_x, train_y, dev_x, dev_y, labels,\n\u001b[0m\u001b[1;32m      9\u001b[0m                   \u001b[0membedding_size\u001b[0m\u001b[0;34m=\u001b[0m\u001b[0membedding_size\u001b[0m\u001b[0;34m,\u001b[0m \u001b[0mdoLowerCase\u001b[0m\u001b[0;34m=\u001b[0m\u001b[0mdoLowerCase\u001b[0m\u001b[0;34m,\u001b[0m\u001b[0;34m\u001b[0m\u001b[0;34m\u001b[0m\u001b[0m\n\u001b[1;32m     10\u001b[0m                   learning_rate=learning_rate, batch_size=batch_size, num_epochs=num_epochs)\n",
            "\u001b[0;32m<ipython-input-26-5742c4419f84>\u001b[0m in \u001b[0;36mtrain\u001b[0;34m(model_name, model_filename, train_x, train_y, dev_x, dev_y, labels, embedding_size, doLowerCase, learning_rate, batch_size, num_epochs)\u001b[0m\n\u001b[1;32m     33\u001b[0m             \u001b[0mloss\u001b[0m \u001b[0;34m=\u001b[0m \u001b[0mcross_entropy\u001b[0m\u001b[0;34m(\u001b[0m\u001b[0my_pred\u001b[0m\u001b[0;34m.\u001b[0m\u001b[0mview\u001b[0m\u001b[0;34m(\u001b[0m\u001b[0;34m-\u001b[0m\u001b[0;36m1\u001b[0m\u001b[0;34m,\u001b[0m \u001b[0mmodel\u001b[0m\u001b[0;34m.\u001b[0m\u001b[0mnum_labels\u001b[0m\u001b[0;34m)\u001b[0m\u001b[0;34m,\u001b[0m \u001b[0my\u001b[0m\u001b[0;34m.\u001b[0m\u001b[0mview\u001b[0m\u001b[0;34m(\u001b[0m\u001b[0;34m-\u001b[0m\u001b[0;36m1\u001b[0m\u001b[0;34m)\u001b[0m\u001b[0;34m)\u001b[0m\u001b[0;34m\u001b[0m\u001b[0;34m\u001b[0m\u001b[0m\n\u001b[1;32m     34\u001b[0m             \u001b[0moptimizer\u001b[0m\u001b[0;34m.\u001b[0m\u001b[0mzero_grad\u001b[0m\u001b[0;34m(\u001b[0m\u001b[0;34m)\u001b[0m\u001b[0;34m\u001b[0m\u001b[0;34m\u001b[0m\u001b[0m\n\u001b[0;32m---> 35\u001b[0;31m             \u001b[0mloss\u001b[0m\u001b[0;34m.\u001b[0m\u001b[0mbackward\u001b[0m\u001b[0;34m(\u001b[0m\u001b[0;34m)\u001b[0m\u001b[0;34m\u001b[0m\u001b[0;34m\u001b[0m\u001b[0m\n\u001b[0m\u001b[1;32m     36\u001b[0m             \u001b[0moptimizer\u001b[0m\u001b[0;34m.\u001b[0m\u001b[0mstep\u001b[0m\u001b[0;34m(\u001b[0m\u001b[0;34m)\u001b[0m\u001b[0;34m\u001b[0m\u001b[0;34m\u001b[0m\u001b[0m\n\u001b[1;32m     37\u001b[0m \u001b[0;34m\u001b[0m\u001b[0m\n",
            "\u001b[0;32m/usr/local/lib/python3.10/dist-packages/torch/_tensor.py\u001b[0m in \u001b[0;36mbackward\u001b[0;34m(self, gradient, retain_graph, create_graph, inputs)\u001b[0m\n\u001b[1;32m    520\u001b[0m                 \u001b[0minputs\u001b[0m\u001b[0;34m=\u001b[0m\u001b[0minputs\u001b[0m\u001b[0;34m,\u001b[0m\u001b[0;34m\u001b[0m\u001b[0;34m\u001b[0m\u001b[0m\n\u001b[1;32m    521\u001b[0m             )\n\u001b[0;32m--> 522\u001b[0;31m         torch.autograd.backward(\n\u001b[0m\u001b[1;32m    523\u001b[0m             \u001b[0mself\u001b[0m\u001b[0;34m,\u001b[0m \u001b[0mgradient\u001b[0m\u001b[0;34m,\u001b[0m \u001b[0mretain_graph\u001b[0m\u001b[0;34m,\u001b[0m \u001b[0mcreate_graph\u001b[0m\u001b[0;34m,\u001b[0m \u001b[0minputs\u001b[0m\u001b[0;34m=\u001b[0m\u001b[0minputs\u001b[0m\u001b[0;34m\u001b[0m\u001b[0;34m\u001b[0m\u001b[0m\n\u001b[1;32m    524\u001b[0m         )\n",
            "\u001b[0;32m/usr/local/lib/python3.10/dist-packages/torch/autograd/__init__.py\u001b[0m in \u001b[0;36mbackward\u001b[0;34m(tensors, grad_tensors, retain_graph, create_graph, grad_variables, inputs)\u001b[0m\n\u001b[1;32m    264\u001b[0m     \u001b[0;31m# some Python versions print out the first line of a multi-line function\u001b[0m\u001b[0;34m\u001b[0m\u001b[0;34m\u001b[0m\u001b[0m\n\u001b[1;32m    265\u001b[0m     \u001b[0;31m# calls in the traceback and some print out the last line\u001b[0m\u001b[0;34m\u001b[0m\u001b[0;34m\u001b[0m\u001b[0m\n\u001b[0;32m--> 266\u001b[0;31m     Variable._execution_engine.run_backward(  # Calls into the C++ engine to run the backward pass\n\u001b[0m\u001b[1;32m    267\u001b[0m         \u001b[0mtensors\u001b[0m\u001b[0;34m,\u001b[0m\u001b[0;34m\u001b[0m\u001b[0;34m\u001b[0m\u001b[0m\n\u001b[1;32m    268\u001b[0m         \u001b[0mgrad_tensors_\u001b[0m\u001b[0;34m,\u001b[0m\u001b[0;34m\u001b[0m\u001b[0;34m\u001b[0m\u001b[0m\n",
            "\u001b[0;31mKeyboardInterrupt\u001b[0m: "
          ]
        }
      ],
      "source": [
        "#baynesian optimization\n",
        "!pip install scikit-optimize\n",
        "from skopt import gp_minimize\n",
        "from skopt.space import Real, Integer\n",
        "\n",
        "def objective(params):\n",
        "    learning_rate, batch_size, num_epochs = params\n",
        "    model = train(albert_model_name, model_filename, train_x, train_y, dev_x, dev_y, labels,\n",
        "                  embedding_size=embedding_size, doLowerCase=doLowerCase,\n",
        "                  learning_rate=learning_rate, batch_size=batch_size, num_epochs=num_epochs)\n",
        "    dev_batch_x, dev_batch_y = model.get_batches(dev_x, dev_y)\n",
        "    dev_accuracy, _ = evaluate(model, dev_batch_x, dev_batch_y)\n",
        "    return -dev_accuracy\n",
        "\n",
        "albert_model_name = \"albert-base-v2\"\n",
        "model_filename = \"myalbert.model\"\n",
        "embedding_size = 768\n",
        "doLowerCase = False\n",
        "\n",
        "ranges = [\n",
        "    Real(1e-6, 1e-4, name='learning_rate'),\n",
        "    Integer(16, 64, name='batch_size'),\n",
        "    Integer(5, 20, name='num_epochs')\n",
        "]\n",
        "\n",
        "optimized = gp_minimize(objective, ranges, n_calls=2, n_initial_points=2)\n",
        "\n",
        "optimal_learning_rate, optimal_batch_size, optimal_num_epochs = optimized.x\n",
        "print(f\"Optimal hyperparameters: learning_rate={optimal_learning_rate}, batch_size={optimal_batch_size}, num_epochs={optimal_num_epochs}\")\n",
        "\n",
        "final_model = train(albert_model_name, model_filename, train_x, train_y, dev_x, dev_y, labels,\n",
        "                    embedding_size=embedding_size, doLowerCase=doLowerCase,\n",
        "                    learning_rate=optimal_learning_rate, batch_size=optimal_batch_size, num_epochs=optimal_num_epochs)\n",
        "\n",
        "test_batch_x, test_batch_y = final_model.get_batches(test_x, test_y)\n",
        "accuracy, test_n = evaluate(final_model, test_batch_x, test_batch_y)\n",
        "\n",
        "lower, upper = confidence_intervals(accuracy, test_n, .95)\n",
        "print(\"Test accuracy for best dev model: %.3f, 95%% CIs: [%.3f %.3f]\\n\" % (accuracy, lower, upper))"
      ]
    },
    {
      "cell_type": "code",
      "execution_count": null,
      "metadata": {
        "id": "-1znZZ3lfiNl"
      },
      "outputs": [],
      "source": [
        "predictions, true_labels = predictions(model, test_batch_x, test_batch_y)"
      ]
    },
    {
      "cell_type": "code",
      "execution_count": null,
      "metadata": {
        "id": "H9GjI9cXfneR",
        "colab": {
          "base_uri": "https://localhost:8080/"
        },
        "outputId": "7076db2a-186a-41d0-bb44-400d66769759"
      },
      "outputs": [
        {
          "output_type": "execute_result",
          "data": {
            "text/plain": [
              "74"
            ]
          },
          "metadata": {},
          "execution_count": 25
        }
      ],
      "source": [
        "np.sum(np.array(predictions) == np.array(true_labels))"
      ]
    },
    {
      "cell_type": "code",
      "execution_count": null,
      "metadata": {
        "id": "UyImsx_C4WPN",
        "colab": {
          "base_uri": "https://localhost:8080/"
        },
        "outputId": "fa525c19-1940-448b-b577-9a7d1bb0f54d"
      },
      "outputs": [
        {
          "output_type": "stream",
          "name": "stdout",
          "text": [
            "Test accuracy for best dev model: 0.740, 95% CIs: [0.654 0.826]\n",
            "\n"
          ]
        }
      ],
      "source": [
        "test_batch_x, test_batch_y = model.get_batches(test_x, test_y)\n",
        "accuracy, test_n=evaluate(model, test_batch_x, test_batch_y)\n",
        "\n",
        "lower, upper=confidence_intervals(accuracy, test_n, .95)\n",
        "print(\"Test accuracy for best dev model: %.3f, 95%% CIs: [%.3f %.3f]\\n\" % (accuracy, lower, upper))"
      ]
    },
    {
      "cell_type": "code",
      "execution_count": null,
      "metadata": {
        "id": "K4wL2Z8w4WPO",
        "colab": {
          "base_uri": "https://localhost:8080/",
          "height": 35
        },
        "outputId": "17ab6014-0e27-4e0f-d5f6-76671b31d13c"
      },
      "outputs": [
        {
          "output_type": "execute_result",
          "data": {
            "text/plain": [
              "'randomly selected train dev and test'"
            ],
            "application/vnd.google.colaboratory.intrinsic+json": {
              "type": "string"
            }
          },
          "metadata": {},
          "execution_count": 40
        }
      ],
      "source": [
        "import pandas as pd\n",
        "\"\"\"randomly selected train dev and test\"\"\"\n",
        "#code used to create dev, train, and txt files (from adjuncted csv)\n",
        "#df=pd.read_csv(\"%s/adj.csv\" % directory)\n",
        "#df = pd.read_csv(\"adj.csv\")\n",
        "#df = df.sample(n = 500, replace = False)\n",
        "#train = df[:300]\n",
        "#dev = df[300: 400]\n",
        "#test = df[400:]\n",
        "\n",
        "#train.to_csv(\"train.txt\", sep='\\t', header=False, index=False)\n",
        "#dev.to_csv(\"dev.txt\", sep='\\t', header=False, index=False)\n",
        "#test.to_csv(\"test.txt\", sep='\\t', header=False, index=False)\n"
      ]
    },
    {
      "cell_type": "markdown",
      "metadata": {
        "id": "f8dMXPcD-c1v"
      },
      "source": [
        "# Backtranslation"
      ]
    },
    {
      "cell_type": "code",
      "execution_count": null,
      "metadata": {
        "id": "tuJZm_8POQhA"
      },
      "outputs": [],
      "source": [
        "from transformers import MarianMTModel, MarianTokenizer\n",
        "\n",
        "def back_translate(text, source_lang='en', target_lang='fr'):\n",
        "    fwd_tokenizer = MarianTokenizer.from_pretrained(f'Helsinki-NLP/opus-mt-{source_lang}-{target_lang}')\n",
        "    fwd_model = MarianMTModel.from_pretrained(f'Helsinki-NLP/opus-mt-{source_lang}-{target_lang}')\n",
        "\n",
        "    bwd_tokenizer = MarianTokenizer.from_pretrained(f'Helsinki-NLP/opus-mt-{target_lang}-{source_lang}')\n",
        "    bwd_model = MarianMTModel.from_pretrained(f'Helsinki-NLP/opus-mt-{target_lang}-{source_lang}')\n",
        "\n",
        "    translated = fwd_model.generate(**fwd_tokenizer(text, return_tensors=\"pt\", padding=True))\n",
        "    target_text = fwd_tokenizer.decode(translated[0], skip_special_tokens=True)\n",
        "\n",
        "    back_translated = bwd_model.generate(**bwd_tokenizer(target_text, return_tensors=\"pt\", padding=True))\n",
        "    source_text = bwd_tokenizer.decode(back_translated[0], skip_special_tokens=True)\n",
        "\n",
        "    return source_text"
      ]
    },
    {
      "cell_type": "code",
      "execution_count": null,
      "metadata": {
        "id": "XV9GVhN17X-J"
      },
      "outputs": [],
      "source": [
        "augmented_text = train['original_text'][:25].apply(lambda x: back_translate(x, src_lang='en', tgt_lang='fr'))"
      ]
    },
    {
      "cell_type": "code",
      "execution_count": null,
      "metadata": {
        "id": "u5SzxLAOHmte"
      },
      "outputs": [],
      "source": [
        "augmented_df = train.iloc[:25]\n",
        "augmented_df['augmented_text'] = augmented_text\n",
        "\n",
        "augmented_df.to_csv(\"augmented_first25.txt\", sep='\\t', header=False, index=False)"
      ]
    },
    {
      "cell_type": "code",
      "execution_count": null,
      "metadata": {
        "id": "X-R4fbEgzYSe"
      },
      "outputs": [],
      "source": [
        "augmented_text2 = train['original_text'][25:50].apply(lambda x: back_translate(x, src_lang='en', tgt_lang='fr'))\n",
        "augmented_df2 = train.iloc[25:50]\n",
        "augmented_df2['augmented_text'] = augmented_text2\n",
        "\n",
        "augmented_df2.to_csv(\"augmented_2.txt\", sep='\\t', header=False, index=False)"
      ]
    },
    {
      "cell_type": "code",
      "execution_count": null,
      "metadata": {
        "id": "KzWKUIjlHrOH"
      },
      "outputs": [],
      "source": [
        "augmented_text3 = train['original_text'][50:75].apply(lambda x: back_translate(x, src_lang='en', tgt_lang='fr'))\n",
        "augmented_df3 = train.iloc[50:75]\n",
        "augmented_df3['augmented_text'] = augmented_text3\n",
        "\n",
        "augmented_df3.to_csv(\"augmented_3.txt\", sep='\\t', header=False, index=False)"
      ]
    },
    {
      "cell_type": "code",
      "execution_count": null,
      "metadata": {
        "id": "gwQek6mEIi7X"
      },
      "outputs": [],
      "source": [
        "augmented_text4 = train['original_text'][75:100].apply(lambda x: back_translate(x, src_lang='en', tgt_lang='fr'))\n",
        "augmented_df4 = train.iloc[75:100]\n",
        "augmented_df4['augmented_text'] = augmented_text4\n",
        "\n",
        "augmented_df4.to_csv(\"augmented_4.txt\", sep='\\t', header=False, index=False)"
      ]
    },
    {
      "cell_type": "code",
      "execution_count": null,
      "metadata": {
        "id": "hiQjM6Vq-3JK"
      },
      "outputs": [],
      "source": [
        "print(train[['original_text', 'augmented_text']])"
      ]
    },
    {
      "cell_type": "markdown",
      "source": [
        "Backtranslation takes ~1 hour to run and produce augmented data."
      ],
      "metadata": {
        "id": "mFebOvXC71SX"
      }
    },
    {
      "cell_type": "markdown",
      "source": [
        "# Part A Summary\n",
        "We decided to go with the BERT model for our task because it’s most helpful for picking up surrounding context and assessing humor in text. There are a few changes we implemented to improve our model.\n",
        "\n",
        "Augmented data/Back Translation - We wanted to introduce variation in the data and make it more robust to increase model performance. By doing this the model would ideally better capture nuances in humor leading to more accurate predictions.\n",
        "\n",
        "ALBERT Classifier - We thought that ALBERT's parameter reduction techniques would help improve efficiency and enable better performance with limited labeled data.\n",
        "\n",
        "Bayesian Optimization - We implemented a ski-kit optimizer into our ALBERT classifier to tune hyperparameters and improve accuracy.\n",
        "\n",
        "Layer Adjustments - Instead of using the baseline CLS token representation in the given BERT notebook, we used pooled output and attention mechanisms to aggregate information across all tokens in order to improve our accuracy.\n",
        "\n",
        "Accuracy: 0.740\n",
        "\n",
        "CI: [0.654 0.826]\n"
      ],
      "metadata": {
        "id": "RrO_0XsIzlaS"
      }
    },
    {
      "cell_type": "markdown",
      "metadata": {
        "id": "3arvm6loWtzu"
      },
      "source": [
        "##Analysis"
      ]
    },
    {
      "cell_type": "code",
      "execution_count": null,
      "metadata": {
        "id": "DgH5533clVrf",
        "colab": {
          "base_uri": "https://localhost:8080/",
          "height": 641
        },
        "outputId": "4ec8d110-b517-436d-8cb8-844cbdc2e0bc"
      },
      "outputs": [
        {
          "output_type": "display_data",
          "data": {
            "text/plain": [
              "<Figure size 1000x700 with 2 Axes>"
            ],
            "image/png": "[encoded data removed]"
          },
          "metadata": {}
        }
      ],
      "source": [
        "from sklearn.metrics import confusion_matrix\n",
        "import matplotlib.pyplot as plt\n",
        "import seaborn as sns\n",
        "\n",
        "conf_matrix = confusion_matrix(test_y, predictions)\n",
        "plt.figure(figsize=(10, 7))\n",
        "sns.heatmap(conf_matrix, annot=True, fmt='d', cmap='Blues')\n",
        "plt.xlabel('Predicted labels')\n",
        "plt.ylabel('True labels')\n",
        "plt.title('Confusion Matrix')\n",
        "plt.show()"
      ]
    },
    {
      "cell_type": "code",
      "execution_count": null,
      "metadata": {
        "id": "ANTJ_GOAnpjR"
      },
      "outputs": [],
      "source": [
        "error_cases = pd.DataFrame()"
      ]
    },
    {
      "cell_type": "code",
      "source": [
        "error_cases['original_text'] = test_x\n",
        "error_cases['annotated_label'] = test_y\n",
        "error_cases['model_prediction'] = predictions"
      ],
      "metadata": {
        "id": "bv5hZo8fcplt"
      },
      "execution_count": null,
      "outputs": []
    },
    {
      "cell_type": "code",
      "source": [
        "part_a = error_cases[error_cases['annotated_label'] == 0]\n",
        "error_cases_02 = part_a[part_a['model_prediction'] == 2]"
      ],
      "metadata": {
        "id": "-R9yuVGrc7X8"
      },
      "execution_count": null,
      "outputs": []
    },
    {
      "cell_type": "code",
      "source": [
        "part_one = error_cases[error_cases['annotated_label'] == 2]\n",
        "error_cases_20 = part_a[part_a['model_prediction'] == 0]"
      ],
      "metadata": {
        "id": "CpCLvxxvdYTY"
      },
      "execution_count": null,
      "outputs": []
    },
    {
      "cell_type": "code",
      "source": [
        "np.array(error_cases_20['original_text'])[10]"
      ],
      "metadata": {
        "colab": {
          "base_uri": "https://localhost:8080/",
          "height": 89
        },
        "id": "S7okT5Z9kFZE",
        "outputId": "62786782-69d6-440c-b292-5dad4b168249"
      },
      "execution_count": null,
      "outputs": [
        {
          "output_type": "execute_result",
          "data": {
            "text/plain": [
              "'\"My students often ask me, \"\"What is sociology?\"\" And I tell them it\\'s the study of the way in which human beings are shaped by things that they don\\'t see. And they say, \"\"So, how can I be a sociologist? How can I understand those invisible forces?\"\" And I say, \"\"Empathy. Start with empathy. It all begins with empathy. Take yourself out of your shoes, put yourself into the shoes of another person.\"\"Here, I\\'ll give you an example. So I imagine my life if, a hundred years ago, China had been the most powerful nation in the world and they\"\\n'"
            ],
            "application/vnd.google.colaboratory.intrinsic+json": {
              "type": "string"
            }
          },
          "metadata": {},
          "execution_count": 34
        }
      ]
    },
    {
      "cell_type": "markdown",
      "source": [
        "# Evaluation/Discussion"
      ],
      "metadata": {
        "id": "20qFMMohE9Wq"
      }
    },
    {
      "cell_type": "markdown",
      "source": [
        "**Most common mistaken labels:**\n",
        "\n",
        "The labels of 0 and 2 were often mistaken for each other. For example, we had 10 errors where our model predicted the label was 0 when it was actually 2. This means even though a category was labeled as funny, our model assessed it as not funny. The same situation occurred in the opposite way where our model predicted a text would be funny when it actually had a label as 0. We want to take a closer look at test examples to see why this error is coming up.\n",
        "\n",
        "**Systematic mistakes & biases:**\n",
        "\n",
        "When reading through test predictions, we noticed that in the texts we labeled as not funny but the model predicted as funny, there are niche references to pop culture. In our view, they were attempted jokes or comments that had the intention to be humorous but didn’t really have a punchline. The model seems to favor pop culture references and connects it to humor automatically. This brings up a bias on our end; because all annotators are the same age and in the same environment, we tend to have a pretty similar sense of humor. We aren’t in the age bracket to understand certain older references and therefore may have missed jokes that other people would pick up on and find amusing.\n",
        "\n",
        "Another issue we found is that the model doesn’t pick up on dark humor. There are certain examples where we labeled the text as funny because even though the topic was on the “darker” side, the speaker incorporated humor throughout their speech. However, the model seemed to have zoned in on the serious topic and labeled it as not funny.\n",
        "\n",
        "**Dataset balance:**\n",
        "\n",
        "In our dataset, there is a huge prevalence of \"Not Funny\" data or labels with the value of 0. This negatively impacts our model since our model doesn't have enough data points of other types of data (\"Funny\" and \"Neutral\"). We also classified inputs who didn't fit our general structure of Ted Talks (singing or poems) as 0, increasing the total number of \"Not Funny\" data labels. With data sets like ours, we want to duplicate examples from the minority data values."
      ],
      "metadata": {
        "id": "J2YThwj6ygjd"
      }
    }
  ],
  "metadata": {
    "accelerator": "GPU",
    "colab": {
      "gpuType": "T4",
      "provenance": []
    },
    "kernelspec": {
      "display_name": "Python 3",
      "name": "python3"
    },
    "language_info": {
      "codemirror_mode": {
        "name": "ipython",
        "version": 3
      },
      "file_extension": ".py",
      "mimetype": "text/x-python",
      "name": "python",
      "nbconvert_exporter": "python",
      "pygments_lexer": "ipython3",
      "version": "3.8.3"
    }
  },
  "nbformat": 4,
  "nbformat_minor": 0
}